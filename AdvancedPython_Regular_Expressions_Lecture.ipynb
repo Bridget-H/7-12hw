{
 "cells": [
  {
   "cell_type": "markdown",
   "metadata": {},
   "source": [
    "# Regular Expressions"
   ]
  },
  {
   "cell_type": "markdown",
   "metadata": {},
   "source": [
    "# Tasks today:\n",
    "1) <b>Importing</b> <br>\n",
    "2) <b>Using Regular Expressions</b> <br>\n",
    " &nbsp;&nbsp;&nbsp;&nbsp; a) re.compile() <br>\n",
    " &nbsp;&nbsp;&nbsp;&nbsp; b) re.match() <br>\n",
    " &nbsp;&nbsp;&nbsp;&nbsp; c) re.findall() <br>\n",
    " &nbsp;&nbsp;&nbsp;&nbsp; d) re.search() <br>\n",
    "3) <b>Sets</b> <br>\n",
    " &nbsp;&nbsp;&nbsp;&nbsp; a) Integer Ranges <br>\n",
    " &nbsp;&nbsp;&nbsp;&nbsp; b) Character Ranges <br>\n",
    "4) <b>Counting Occurences</b> <br>\n",
    " &nbsp;&nbsp;&nbsp;&nbsp; a) {x} <br>\n",
    " &nbsp;&nbsp;&nbsp;&nbsp; b) {, x} <br>\n",
    " &nbsp;&nbsp;&nbsp;&nbsp; c) {?} <br>\n",
    " &nbsp;&nbsp;&nbsp;&nbsp; d) {*} <br>\n",
    " &nbsp;&nbsp;&nbsp;&nbsp; e) {+} <br>\n",
    "5) <b>In-Class Exercise #1</b> <br>\n",
    "6) <b>Escaping Characters</b> <br>\n",
    "7) <b>Grouping</b> <br>\n",
    "8) <b>In-Class Exercise #2</b> <br>\n",
    "9) <b>Opening a File</b> <br>\n",
    " &nbsp;&nbsp;&nbsp;&nbsp; a) open() <br>\n",
    " &nbsp;&nbsp;&nbsp;&nbsp; b) with open() <br>\n",
    " &nbsp;&nbsp;&nbsp;&nbsp; c) re.match() <br>\n",
    " &nbsp;&nbsp;&nbsp;&nbsp; d) re.search() <br>\n",
    " &nbsp;&nbsp;&nbsp;&nbsp; e) Store the String in a Variable <br>\n",
    "10) <b>Regex Project</b> <br>"
   ]
  },
  {
   "cell_type": "markdown",
   "metadata": {},
   "source": [
    "### Importing <br>\n",
    "<p>Regular Expressions are universal throughout most programming languages... They are generally imported through the module 're'.</p>"
   ]
  },
  {
   "cell_type": "code",
   "execution_count": 38,
   "metadata": {},
   "outputs": [],
   "source": [
    "# import re\n",
    "import re"
   ]
  },
  {
   "cell_type": "code",
   "execution_count": 39,
   "metadata": {},
   "outputs": [
    {
     "name": "stdout",
     "output_type": "stream",
     "text": [
      "<module 're' from 'C:\\\\Users\\\\Bridget\\\\anaconda3\\\\lib\\\\re.py'>\n"
     ]
    }
   ],
   "source": [
    "print(re)"
   ]
  },
  {
   "cell_type": "markdown",
   "metadata": {},
   "source": [
    "### Using Regular Expressions <br>\n",
    "<p>Regular expressions give us the ability to search for patterns within text, strings, files, etc. They serve several uses, such as; security measures, searching, filtering, pattern recognition, and more...</p>"
   ]
  },
  {
   "cell_type": "markdown",
   "metadata": {},
   "source": [
    "##### re.compile()"
   ]
  },
  {
   "cell_type": "code",
   "execution_count": 41,
   "metadata": {},
   "outputs": [
    {
     "name": "stdout",
     "output_type": "stream",
     "text": [
      "re.compile('abcd')\n"
     ]
    }
   ],
   "source": [
    "# using compile, predetermines the string to be used in regular expression methods\n",
    "pattern = re.compile(\"abcd\")\n",
    "\n",
    "print(pattern)"
   ]
  },
  {
   "cell_type": "markdown",
   "metadata": {},
   "source": [
    "##### re.match()"
   ]
  },
  {
   "cell_type": "code",
   "execution_count": 44,
   "metadata": {},
   "outputs": [
    {
     "name": "stdout",
     "output_type": "stream",
     "text": [
      "<re.Match object; span=(0, 4), match='abcd'>\n",
      "(0, 4)\n",
      "<class 'tuple'>\n"
     ]
    }
   ],
   "source": [
    "match = pattern.match(\"abcd1234\")\n",
    "\n",
    "print(match)\n",
    "\n",
    "#\n",
    "\"abcd1234\"[0:4]#for the 4 include one more index space than you want\n",
    "span = match.span()\n",
    "print(span)\n",
    "print(type(span))\n",
    "\"abcd1234\"[span[0]:span[1]]"
   ]
  },
  {
   "cell_type": "markdown",
   "metadata": {},
   "source": [
    "##### re.findall()"
   ]
  },
  {
   "cell_type": "code",
   "execution_count": 46,
   "metadata": {},
   "outputs": [
    {
     "name": "stdout",
     "output_type": "stream",
     "text": [
      "['abcd', 'abcd', 'abcd']\n"
     ]
    }
   ],
   "source": [
    "random_string = \"123abcd ancd123 abcd abccba 12 abcd aabbccdd dcba\"\n",
    "find_all = pattern.findall(random_string)\n",
    "print(find_all)"
   ]
  },
  {
   "cell_type": "code",
   "execution_count": 47,
   "metadata": {},
   "outputs": [
    {
     "name": "stdout",
     "output_type": "stream",
     "text": [
      "['abcd', 'abcd', 'abcd']\n"
     ]
    }
   ],
   "source": [
    "find_all_again = re.findall(\"abcd\", random_string)\n",
    "print(find_all)"
   ]
  },
  {
   "cell_type": "markdown",
   "metadata": {},
   "source": [
    "##### re.search()"
   ]
  },
  {
   "cell_type": "code",
   "execution_count": 60,
   "metadata": {},
   "outputs": [
    {
     "name": "stdout",
     "output_type": "stream",
     "text": [
      "<re.Match object; span=(12, 16), match='abcd'>\n",
      "(12, 16)\n",
      "abcd\n",
      "abcd\n",
      "a b c d\n"
     ]
    }
   ],
   "source": [
    "random_string = \"123 123 321 abcd bdca abcd abc\"\n",
    "search = pattern.search(random_string)\n",
    "print(search)\n",
    "\n",
    "span = search.span()\n",
    "\n",
    "print(span)\n",
    "print(random_string[12:16])\n",
    "print(random_string[span[0]:span[1]])\n",
    "print(random_string[12], random_string[13], random_string[14], random_string[15])"
   ]
  },
  {
   "cell_type": "markdown",
   "metadata": {},
   "source": [
    "### Sets <br>\n",
    "<p>The following cells will allow you to use regular expressions to search for certain values within a range such as numbers 1 through 4.</p>"
   ]
  },
  {
   "cell_type": "markdown",
   "metadata": {},
   "source": [
    "##### [a-z] or [A-Z] - any lowercase/uppercase letters from a to z<br/>[^2] - anything that's not 2"
   ]
  },
  {
   "cell_type": "code",
   "execution_count": 54,
   "metadata": {},
   "outputs": [
    {
     "data": {
      "text/plain": [
       "['abc', 'bdc', 'abc', 'abc']"
      ]
     },
     "execution_count": 54,
     "metadata": {},
     "output_type": "execute_result"
    }
   ],
   "source": [
    "pattern_set = re.compile('[abcd][abcd][abcd]')\n",
    "pattern_set.findall(random_string)"
   ]
  },
  {
   "cell_type": "markdown",
   "metadata": {},
   "source": [
    "##### Integer Ranges"
   ]
  },
  {
   "cell_type": "code",
   "execution_count": 62,
   "metadata": {},
   "outputs": [
    {
     "name": "stdout",
     "output_type": "stream",
     "text": [
      "<re.Match object; span=(1, 4), match='783'>\n"
     ]
    },
    {
     "ename": "AttributeError",
     "evalue": "'re.Pattern' object has no attribute 'fidall'",
     "output_type": "error",
     "traceback": [
      "\u001b[1;31m---------------------------------------------------------------------------\u001b[0m",
      "\u001b[1;31mAttributeError\u001b[0m                            Traceback (most recent call last)",
      "\u001b[1;32m<ipython-input-62-5eafa13f8bfa>\u001b[0m in \u001b[0;36m<module>\u001b[1;34m\u001b[0m\n\u001b[0;32m      5\u001b[0m \u001b[0mprint\u001b[0m\u001b[1;33m(\u001b[0m\u001b[0mrandom_num\u001b[0m\u001b[1;33m)\u001b[0m\u001b[1;33m\u001b[0m\u001b[1;33m\u001b[0m\u001b[0m\n\u001b[0;32m      6\u001b[0m \u001b[1;33m\u001b[0m\u001b[0m\n\u001b[1;32m----> 7\u001b[1;33m \u001b[0mfind_randoms\u001b[0m \u001b[1;33m=\u001b[0m \u001b[0mpattern_int\u001b[0m\u001b[1;33m.\u001b[0m\u001b[0mfidall\u001b[0m\u001b[1;33m(\u001b[0m\u001b[0mrandom_ints\u001b[0m\u001b[1;33m)\u001b[0m\u001b[1;33m\u001b[0m\u001b[1;33m\u001b[0m\u001b[0m\n\u001b[0m\u001b[0;32m      8\u001b[0m \u001b[0mprint\u001b[0m\u001b[1;33m(\u001b[0m\u001b[0mfind_randoms\u001b[0m\u001b[1;33m)\u001b[0m\u001b[1;33m\u001b[0m\u001b[1;33m\u001b[0m\u001b[0m\n",
      "\u001b[1;31mAttributeError\u001b[0m: 're.Pattern' object has no attribute 'fidall'"
     ]
    }
   ],
   "source": [
    "pattern_int = re.compile(\"[0-7][7-9][0-3]\")\n",
    "\n",
    "random_ints = '678324'\n",
    "random_num = pattern_int.search(random_ints)\n",
    "print(random_num)\n",
    "                                          \n",
    "find_randoms = pattern_int.fidall(random_ints)\n",
    "print(find_randoms)"
   ]
  },
  {
   "cell_type": "markdown",
   "metadata": {},
   "source": [
    "##### Character Ranges"
   ]
  },
  {
   "cell_type": "code",
   "execution_count": 63,
   "metadata": {},
   "outputs": [
    {
     "name": "stdout",
     "output_type": "stream",
     "text": [
      "['He', 'Th', 'Mr', 'An']\n"
     ]
    }
   ],
   "source": [
    "char_pattern = re.compile(\"[A-Z][a-z]\")\n",
    "\n",
    "#search thrugh uppercase and lower case strings that are right next to one another\n",
    "\n",
    "chars = char_pattern.findall('Hello There Mr. Anderson')\n",
    "print(chars)"
   ]
  },
  {
   "cell_type": "code",
   "execution_count": 65,
   "metadata": {},
   "outputs": [
    {
     "data": {
      "text/plain": [
       "['1', '3', '3', '4', '5', '4', '3', '1', '1', '4', '3']"
      ]
     },
     "execution_count": 65,
     "metadata": {},
     "output_type": "execute_result"
    }
   ],
   "source": [
    "not_two = re.compile(\"[^2]\") #^2 indicates not two\n",
    "not_two.findall(\"12233454311432\")"
   ]
  },
  {
   "cell_type": "markdown",
   "metadata": {},
   "source": [
    "### Counting Occurences"
   ]
  },
  {
   "cell_type": "markdown",
   "metadata": {},
   "source": [
    "##### {x} - something that occurs {num_of_times}"
   ]
  },
  {
   "cell_type": "code",
   "execution_count": 68,
   "metadata": {},
   "outputs": [
    {
     "data": {
      "text/plain": [
       "['aaaaaa']"
      ]
     },
     "execution_count": 68,
     "metadata": {},
     "output_type": "execute_result"
    }
   ],
   "source": [
    "six_a = re.compile(\"a{6}\")\n",
    "\n",
    "six_a.findall(\"the sheep said baaaaaaaa\")"
   ]
  },
  {
   "cell_type": "code",
   "execution_count": 70,
   "metadata": {},
   "outputs": [
    {
     "name": "stdout",
     "output_type": "stream",
     "text": [
      "['Hel', 'The', 'And']\n"
     ]
    }
   ],
   "source": [
    "char_pattern_count = re.compile(\"[A-Z][a-z]{2}\")\n",
    "\n",
    "chars = char_pattern_count.findall(\"Hello There Mr. Andseron\")\n",
    "print(chars)"
   ]
  },
  {
   "cell_type": "markdown",
   "metadata": {},
   "source": [
    "##### {x, x} - something that occurs between x and x times"
   ]
  },
  {
   "cell_type": "code",
   "execution_count": 75,
   "metadata": {},
   "outputs": [
    {
     "name": "stdout",
     "output_type": "stream",
     "text": [
      "['m', 'm', 'm', 'mmm', 'mmmmm', 'mmm']\n"
     ]
    }
   ],
   "source": [
    "m_pattern = re.compile(\"m{1,5}\")\n",
    "\n",
    "random_statement= m_pattern.findall(\" This is an example of a regular expression\\\n",
    "                                     trying to find one m, more than one mmm or \\\n",
    "                                     up to five mmmmmmmm 's'\")\n",
    "print(random_statement)"
   ]
  },
  {
   "cell_type": "markdown",
   "metadata": {},
   "source": [
    "##### ? - something that occurs 0 or 1 time"
   ]
  },
  {
   "cell_type": "code",
   "execution_count": 77,
   "metadata": {},
   "outputs": [
    {
     "name": "stdout",
     "output_type": "stream",
     "text": [
      "['Mr', 'Mrs']\n"
     ]
    }
   ],
   "source": [
    "pattern = re.compile(\"Mrs?\")#we are saying we need one capital M one lowercase r and the ? \n",
    "                            #indicates that there may or maynot be a lowercase s\n",
    "                            #that's why it excepts mr and mrs\n",
    "\n",
    "found_pat = pattern.findall(\"hello Mr. and Mrs. Anderson\")\n",
    "\n",
    "print(found_pat)"
   ]
  },
  {
   "cell_type": "code",
   "execution_count": 80,
   "metadata": {},
   "outputs": [
    {
     "name": "stdout",
     "output_type": "stream",
     "text": [
      "['Mr', 'Mr', 'Mra', 'Mre', 'Mr', 'Mr']\n"
     ]
    }
   ],
   "source": [
    "pattern = re.compile(\"Mr[aeiou]?\")#\n",
    "\n",
    "found_pat = pattern.findall(\"hello Mr. and Mrs. Anderson Mra Mre MrA Mrs\")\n",
    "\n",
    "print(found_pat)"
   ]
  },
  {
   "cell_type": "markdown",
   "metadata": {},
   "source": [
    "##### * - something that occurs at least 0 times"
   ]
  },
  {
   "cell_type": "code",
   "execution_count": 84,
   "metadata": {},
   "outputs": [
    {
     "name": "stdout",
     "output_type": "stream",
     "text": [
      "['MMMs', 's', 'Ms', 's', 's', 'Ms', 's', 's', 's']\n"
     ]
    }
   ],
   "source": [
    "pattern_m = re.compile(\"M*s\") # the *means there will be zero or many instances of the character behidn it\n",
    "\n",
    "found_m = pattern_m.findall(\"MMMs name is Ms. Smith this is Mssss\")\n",
    "print(found_m)"
   ]
  },
  {
   "cell_type": "markdown",
   "metadata": {},
   "source": [
    "##### + - something that occurs at least once"
   ]
  },
  {
   "cell_type": "code",
   "execution_count": 87,
   "metadata": {},
   "outputs": [
    {
     "name": "stdout",
     "output_type": "stream",
     "text": [
      "['MMMs', 'Ms', 'Ms', 'MMMMMMMMs']\n"
     ]
    }
   ],
   "source": [
    "pattern_again = re.compile(\"M+s\") #the plus sign = atleaset one instance of the character\n",
    "found_again = pattern_again.findall(\"MMMs name is Ms. Smith this is Mssss sssssssssssM MMMMMMMMs\")\n",
    "print(found_again)"
   ]
  },
  {
   "cell_type": "markdown",
   "metadata": {},
   "source": [
    "##### In-class exercise 1: \n",
    "\n",
    "Use a regular expression to find every number in the given string"
   ]
  },
  {
   "cell_type": "code",
   "execution_count": 104,
   "metadata": {},
   "outputs": [
    {
     "name": "stdout",
     "output_type": "stream",
     "text": [
      "['10909090', '1', '2']\n"
     ]
    }
   ],
   "source": [
    "my_string = re.compile(\"[0-9]+\")#(\"10*9*0*9*0*9*0*\") #the plus sign = atleaset one instance of the character\n",
    "found_again = my_string.findall(\"This string has 10909090 numbers, but it is only 1 string. I hope you solve this 2day.\")\n",
    "\n",
    "print(found_again)\n",
    "\n",
    "# Output: ['10909090','1',2]\n",
    "\n",
    "\n"
   ]
  },
  {
   "cell_type": "code",
   "execution_count": null,
   "metadata": {},
   "outputs": [],
   "source": []
  },
  {
   "cell_type": "markdown",
   "metadata": {},
   "source": [
    "### Escaping Characters"
   ]
  },
  {
   "cell_type": "markdown",
   "metadata": {},
   "source": [
    "##### \\w - look for any Unicode character<br/>\\W - look for anything that isnt a Unicode character\n",
    "\n",
    "[History on Unicode](http://unicode.org/standard/WhatIsUnicode.html)\n",
    "\n",
    "[More on Unicode Characters](https://en.wikipedia.org/wiki/List_of_Unicode_characters)"
   ]
  },
  {
   "cell_type": "code",
   "execution_count": 6,
   "metadata": {},
   "outputs": [
    {
     "name": "stdout",
     "output_type": "stream",
     "text": [
      "['gfwfs', 'gs', 'this', 'is', 'a', 'word', 'fr', 'grtg0y35493', 'gfg']\n",
      "[' ', ' ', ' ', ' ', ' ', ' ', ' ', '-']\n"
     ]
    }
   ],
   "source": [
    "import re\n",
    "#a unicode character is basically any character you can create on a keyboard\n",
    "pattern_1 = re.compile(\"[\\w]+\") #(\"[\\w]+\") finds unicode character groupings\n",
    "pattern_2 = re.compile(\"[\\W]+\") #(\"[\\W]+\") finds non-unicode character groupings\n",
    "sentence = \"gfwfs gs this is a word fr grtg0y35493-gfg\"\n",
    "unicode_chars = pattern_1.findall(sentence)\n",
    "print(unicode_chars)\n",
    "non_unicode_chars = pattern_2.findall(sentence)\n",
    "print(non_unicode_chars)"
   ]
  },
  {
   "cell_type": "markdown",
   "metadata": {},
   "source": [
    "##### \\d - look for any digit 0-9<br/>\\D - look for anything that isnt a digit"
   ]
  },
  {
   "cell_type": "code",
   "execution_count": 13,
   "metadata": {},
   "outputs": [
    {
     "name": "stdout",
     "output_type": "stream",
     "text": [
      "['12th', '22nd', '3rd', '1st', '30th']\n",
      "['Today is the ', 'th in ', ' days it will bw the ', 'nd, ', 'rd ', 'st ', 'th  ', ' ', ' ', ' ', ' ', ' ']\n"
     ]
    }
   ],
   "source": [
    "date_string = \"Today is the 12th in 10 days it will bw the 22nd, 3rd 1st 30th  33 5 6 7 88 5\"\n",
    "\n",
    "pattern_date = re.compile(\"[\\d]+[\\w]{2}\") #\\d indicates we are looking for digits\n",
    "\n",
    "pattern_date.findall(date_string)\n",
    "\n",
    "non_digits = re.compile(\"[\\D]+\")\n",
    "\n",
    "print(pattern_date.findall(date_string))\n",
    "print(non_digits.findall(date_string))"
   ]
  },
  {
   "cell_type": "markdown",
   "metadata": {},
   "source": [
    "##### \\s - look for any white space<br/>\\S - look for anything that isnt whitespace"
   ]
  },
  {
   "cell_type": "code",
   "execution_count": 21,
   "metadata": {},
   "outputs": [
    {
     "name": "stdout",
     "output_type": "stream",
     "text": [
      "[' ', ' ', ' ', ' ', ' ']\n",
      "['Are', 'you', 'afraid', 'of', 'the', 'dark?']\n"
     ]
    }
   ],
   "source": [
    "pattern_space = re.compile(\"\\s+\")\n",
    "\n",
    "found_spaces = pattern_space.findall(\"Are you afraid of the dark?\")\n",
    "print(found_spaces)\n",
    "\n",
    "pattern_no_space = re.compile(\"\\S+\")\n",
    "\n",
    "found_no_spaces = pattern_no_space.findall(\"Are you afraid of the dark?\")\n",
    "print(found_no_spaces)\n"
   ]
  },
  {
   "cell_type": "code",
   "execution_count": 18,
   "metadata": {},
   "outputs": [
    {
     "name": "stdout",
     "output_type": "stream",
     "text": [
      "\thello\n",
      "\n",
      "hello\n"
     ]
    }
   ],
   "source": [
    "print(\"\\thello\")#creates a tab\n",
    "print(\"\\nhello\")#creates a new blank line\n",
    "\n"
   ]
  },
  {
   "cell_type": "markdown",
   "metadata": {},
   "source": [
    "##### \\b - look for boundaries or edges of a word<br/>\\B - look for anything that isnt a boundary"
   ]
  },
  {
   "cell_type": "code",
   "execution_count": 29,
   "metadata": {},
   "outputs": [
    {
     "name": "stdout",
     "output_type": "stream",
     "text": [
      "['coding']\n"
     ]
    }
   ],
   "source": [
    "pattern_bound = re.compile(r\"\\bcoding\\b\") #r turns it into a raw string boundries are defined when you switch from unicode characters to non unicode characters\n",
    "\n",
    "found_bound = pattern_bound.findall(\"The coding Temple\")\n",
    "\n",
    "print(found_bound)"
   ]
  },
  {
   "cell_type": "code",
   "execution_count": 30,
   "metadata": {},
   "outputs": [
    {
     "name": "stdout",
     "output_type": "stream",
     "text": [
      "['coding']\n"
     ]
    }
   ],
   "source": [
    "pattern_bound = re.compile(r\"\\Bcoding\\B\") #r turns it into a raw string B is not in a boundrt\n",
    "\n",
    "found_bound = pattern_bound.findall(\"ThecodingTemple\")\n",
    "\n",
    "print(found_bound)"
   ]
  },
  {
   "cell_type": "markdown",
   "metadata": {},
   "source": [
    "### Grouping"
   ]
  },
  {
   "cell_type": "code",
   "execution_count": 48,
   "metadata": {},
   "outputs": [
    {
     "name": "stdout",
     "output_type": "stream",
     "text": [
      "[('Max', 'Smith'), ('Sam', 'Darnold'), ('LeBron', 'James'), ('Micheal', 'Jordan'), ('Kevin', 'Durant'), ('Patrick', 'McCormick')]\n",
      "Max\n",
      " aaron rodgers is a bad guy\n",
      "Sam\n",
      "LeBron\n",
      "Micheal\n",
      "Kevin\n",
      "Patrick\n"
     ]
    }
   ],
   "source": [
    "my_string_again = \"Max Smith, aaron rodgers, Sam Darnold,LeBron James, Micheal Jordan, Kevin Durant, Patrick McCormick\"\n",
    "\n",
    "# Group of names Regular Expression Compiler\n",
    "pattern_name = re.compile(\"(?P<first>[A-Z][a-zA-Z]+) (?P<last>[A-Z][A-Za-z]+)\") #fist name is a capital letter, followed by atleast one letter that could be uppercase or lower\n",
    "\n",
    "found_names = pattern_name.findall(my_string_again)\n",
    "print(found_names) #loops over entire list to get matches and get group tuple\n",
    "for name in my_string_again.split(\",\"):\n",
    "    match = pattern_name.search(name)\n",
    "    if match:\n",
    "        print(match.group(1))\n",
    "    else:\n",
    "        print(f'{name} is a bad guy')"
   ]
  },
  {
   "cell_type": "markdown",
   "metadata": {},
   "source": [
    "##### In-class Exercise 2:\n",
    "\n",
    "Write a function using regular expressions to find the domain name in the given email addresses (and return None for the invalid email addresses)<br><b>HINT: Use '|' for either or</b>"
   ]
  },
  {
   "cell_type": "code",
   "execution_count": 59,
   "metadata": {},
   "outputs": [
    {
     "name": "stdout",
     "output_type": "stream",
     "text": [
      "None\n",
      "pocohontas1776@gmail.com\n",
      "None\n",
      "yourfavoriteband@g6.org\n",
      "None\n"
     ]
    }
   ],
   "source": [
    "my_emails = [\"jordanw@codingtemple.orgcom\", \"pocohontas1776@gmail.com\", \"helloworld@aol..com\",\n",
    "             \"yourfavoriteband@g6.org\", \"@codingtemple.com\"]\n",
    "def validate_email(email):\n",
    "    valid_email_pattern = re.compile(\"[A-Za-z0-9]+@[A-Za-z0-9]+.(org|com)$\")\n",
    "    \n",
    "    match = valid_email_pattern.match(email)\n",
    "    \n",
    "    if match:\n",
    "        print(email)\n",
    "    else:\n",
    "        print(None)\n",
    "    \n",
    "\n",
    "for email in my_emails:\n",
    "   # print(email)\n",
    "    \n",
    "    validate_email(email)\n",
    "        \n",
    "# You can also use the $ at the end of your compile expression -- this stops the search\n",
    "\n",
    "#Expected output:\n",
    "#None\n",
    "#pocohontas1776@gmail.com\n",
    "#None\n",
    "#yourfavoriteband@g6.org\n",
    "#None\n"
   ]
  },
  {
   "cell_type": "markdown",
   "metadata": {},
   "source": [
    "### Opening a File <br>\n",
    "<p>Python gives us a couple ways to import files, below are the two used most often.</p>"
   ]
  },
  {
   "cell_type": "markdown",
   "metadata": {},
   "source": [
    "##### open()"
   ]
  },
  {
   "cell_type": "code",
   "execution_count": 62,
   "metadata": {},
   "outputs": [
    {
     "name": "stdout",
     "output_type": "stream",
     "text": [
      "<_io.TextIOWrapper name='names.txt' mode='r' encoding='cp1252'>\n",
      "<class '_io.TextIOWrapper'>\n",
      "Hawkins, Derek\tderek@codingtemple.com\t(555) 555-5555\tTeacher, Coding Temple\t@derekhawkins\n",
      "Stanton, Brian\tbrians@codingtemple.com\t(555) 555-5554\tTeacher, Coding Temple\n",
      "Johnson, Joe\tjoejohnson@codingtemple.com\t\tJohson, Joe\n",
      "Osterberg, Sven-Erik\tgovernor@norrbotten.co.se\t\tGovernor, Norrbotten\t@sverik\n",
      ", Tim\ttim@killerrabbit.com\t\tEnchanter, Killer Rabbit Cave\n",
      "Butz, Ryan\tryanb@codingtemple.com\t(555) 555-5543\tCEO, Coding Temple\t@ryanbutz\n",
      "Doctor, The\tdoctor+companion@tardis.co.uk\t\tTime Lord, Gallifrey\n",
      "Exampleson, Example\tme@example.com\t555-555-5552\tExample, Example Co.\t@example\n",
      "Pael, Ripal\tripalp@codingtemple.com\t(555) 555-5553\tTeacher, Coding Temple\t@ripalp\n",
      "Vader, Darth\tdarth-vader@empire.gov\t(555) 555-4444\tSith Lord, Galactic Empire\t@darthvader\n",
      "Fernandez de la Vega Sanz, Maria Teresa\tmtfvs@spain.gov\t\tFirst Deputy Prime Minister, Spanish Gov\n",
      "\n"
     ]
    }
   ],
   "source": [
    "file = open(\"names.txt\")\n",
    "\n",
    "print(file)\n",
    "print(type(file))\n",
    "\n",
    "data = file.read()\n",
    "\n",
    "print(data)\n",
    "\n",
    "file.close()"
   ]
  },
  {
   "cell_type": "markdown",
   "metadata": {},
   "source": [
    "##### with open()"
   ]
  },
  {
   "cell_type": "code",
   "execution_count": 64,
   "metadata": {},
   "outputs": [
    {
     "name": "stdout",
     "output_type": "stream",
     "text": [
      "Hawkins, Derek\tderek@codingtemple.com\t(555) 555-5555\tTeacher, Coding Temple\t@derekhawkins\n",
      "Stanton, Brian\tbrians@codingtemple.com\t(555) 555-5554\tTeacher, Coding Temple\n",
      "Johnson, Joe\tjoejohnson@codingtemple.com\t\tJohson, Joe\n",
      "Osterberg, Sven-Erik\tgovernor@norrbotten.co.se\t\tGovernor, Norrbotten\t@sverik\n",
      ", Tim\ttim@killerrabbit.com\t\tEnchanter, Killer Rabbit Cave\n",
      "Butz, Ryan\tryanb@codingtemple.com\t(555) 555-5543\tCEO, Coding Temple\t@ryanbutz\n",
      "Doctor, The\tdoctor+companion@tardis.co.uk\t\tTime Lord, Gallifrey\n",
      "Exampleson, Example\tme@example.com\t555-555-5552\tExample, Example Co.\t@example\n",
      "Pael, Ripal\tripalp@codingtemple.com\t(555) 555-5553\tTeacher, Coding Temple\t@ripalp\n",
      "Vader, Darth\tdarth-vader@empire.gov\t(555) 555-4444\tSith Lord, Galactic Empire\t@darthvader\n",
      "Fernandez de la Vega Sanz, Maria Teresa\tmtfvs@spain.gov\t\tFirst Deputy Prime Minister, Spanish Gov\n",
      "\n"
     ]
    }
   ],
   "source": [
    "with open(\"names.txt\") as file: #this automatically closes the file for you\n",
    "    names_data = file.read()\n",
    "    print(names_data)"
   ]
  },
  {
   "cell_type": "markdown",
   "metadata": {},
   "source": [
    "##### re.match()"
   ]
  },
  {
   "cell_type": "code",
   "execution_count": 66,
   "metadata": {},
   "outputs": [
    {
     "name": "stdout",
     "output_type": "stream",
     "text": [
      "<re.Match object; span=(0, 14), match='Hawkins, Derek'>\n",
      "Hawkins, Derek\n"
     ]
    }
   ],
   "source": [
    "derek_pattern = re.compile(\"Hawkins, Derek\")\n",
    "\n",
    "derek = derek_pattern.match(names_data)\n",
    "\n",
    "print(derek)\n",
    "print(names_data[0:14])"
   ]
  },
  {
   "cell_type": "markdown",
   "metadata": {},
   "source": [
    "##### re.search()"
   ]
  },
  {
   "cell_type": "code",
   "execution_count": null,
   "metadata": {},
   "outputs": [],
   "source": [
    "ripal_email = re.compile(\"ripalp@codingtemple.com\")\n",
    "ripal = pipal_email.search(names_data)\n",
    "print(ripal)\n",
    "print(names_data[588:611])"
   ]
  },
  {
   "cell_type": "markdown",
   "metadata": {},
   "source": [
    "##### Store the String to a Variable"
   ]
  },
  {
   "cell_type": "code",
   "execution_count": 68,
   "metadata": {},
   "outputs": [
    {
     "name": "stdout",
     "output_type": "stream",
     "text": [
      "What would you like to search for? ripalp@codingtemple.com\n",
      "I found yout data: ['ripalp@codingtemple.com']\n"
     ]
    }
   ],
   "source": [
    "answer = input(\"What would you like to search for? \")\n",
    "\n",
    "found = re.findall(answer, names_data)\n",
    "\n",
    "if found:\n",
    "    print(f'I found yout data: {found}')\n",
    "else:\n",
    "    print(\"no data found\")"
   ]
  },
  {
   "cell_type": "markdown",
   "metadata": {},
   "source": [
    "### In-Class Exercise #3 <br>\n",
    "<p>Print each persons name and twitter handle, using groups, should look like:</p>\n",
    "<p>==============<br>\n",
    "   Full Name / Twitter<br>\n",
    "   ==============</p>\n",
    "Derek Hawkins / @derekhawkins\n",
    "\n",
    " Erik Sven-Osterberg / @sverik\n",
    "\n",
    " Ryan Butz / @ryanbutz\n",
    "\n",
    " Example Exampleson / @example\n",
    "\n",
    " Ripal Pael / @ripalp\n",
    "\n",
    " Darth Vader / @darthvader"
   ]
  },
  {
   "cell_type": "code",
   "execution_count": 11,
   "metadata": {
    "scrolled": true
   },
   "outputs": [
    {
     "name": "stdout",
     "output_type": "stream",
     "text": [
      "===========================================\n",
      "Derek Hawkins / @derekhawkins\n",
      "===========================================\n",
      "===========================================\n",
      "Sven-Erik Osterberg / @sverik\n",
      "===========================================\n",
      "===========================================\n",
      "Ryan Butz / @ryanbutz\n",
      "===========================================\n",
      "===========================================\n",
      "Example Exampleson / @example\n",
      "===========================================\n",
      "===========================================\n",
      "Ripal Pael / @ripalp\n",
      "===========================================\n",
      "===========================================\n",
      "Darth Vader / @darthvader\n",
      "===========================================\n"
     ]
    }
   ],
   "source": [
    "import re\n",
    "pattern = re.compile(r'''\n",
    "    ^(?P<name>[a-zA-Z\\s]*,\\s[\\w-]+)\\t      #The name of our people - last, first  --\\s = white spaces\n",
    "    (?P<email>[\\w+-]+@[\\w.]+)\\t\n",
    "    (?P<phone>\\(?\\d{3}\\)?\\s?-?\\d{3}-\\d{4})?\\t?   # ? = will show up 0 or 1 time\n",
    "    (?P<title>[\\w\\s]+,\\s[\\w\\s.]+)\\t?\n",
    "    (?P<twitter>@[\\w]+)?$\n",
    "''', re.X|re.M)\n",
    "for found in pattern.finditer(names_data):\n",
    "    if found.group('twitter'):\n",
    "        first_name = found.group('name').split(', ')[1]\n",
    "        last_name = found.group('name').split(', ')[0]\n",
    "        print('===========================================')\n",
    "        print(f\"{first_name} {last_name} / {found.group('twitter')}\")\n",
    "        print('===========================================')"
   ]
  },
  {
   "cell_type": "code",
   "execution_count": 5,
   "metadata": {},
   "outputs": [
    {
     "ename": "SyntaxError",
     "evalue": "invalid syntax (<ipython-input-5-fcbedec75655>, line 11)",
     "output_type": "error",
     "traceback": [
      "\u001b[1;36m  File \u001b[1;32m\"<ipython-input-5-fcbedec75655>\"\u001b[1;36m, line \u001b[1;32m11\u001b[0m\n\u001b[1;33m    if space == \"available\"\u001b[0m\n\u001b[1;37m                           ^\u001b[0m\n\u001b[1;31mSyntaxError\u001b[0m\u001b[1;31m:\u001b[0m invalid syntax\n"
     ]
    }
   ],
   "source": [
    "class ParkingGarage():\n",
    "   \n",
    "    def __init__(self):\n",
    "        self.ticket=[\"Ticket0\",\"Ticket1\",\"Ticket2\",\"Ticket3\",\"Ticket4\"]\n",
    "        self.parking=[\"available\",\"available\",\"available\",\"available\",\"available\"]\n",
    "        \n",
    "        return\n",
    "    \n",
    "    def takeTicket(self):\n",
    "        for space in self.parkingspaces:\n",
    "            if space == \"available\"\n",
    "                space = \"Not Available\"\n",
    "        \n",
    "        return\n",
    "    \n",
    "    def method(self):\n",
    "        \n",
    "        \n",
    "        return\n"
   ]
  },
  {
   "cell_type": "code",
   "execution_count": 6,
   "metadata": {},
   "outputs": [
    {
     "name": "stdout",
     "output_type": "stream",
     "text": [
      "Abraham Lincoln\n",
      "Andrew P Garfield\n",
      "Connor Milliken\n",
      "Jordan Alexander Williams\n",
      "Madonna\n",
      "programming is cool\n",
      "\n"
     ]
    }
   ],
   "source": [
    "with open(\"regex_test.txt\") as file: #this automatically closes the file for you\n",
    "    names_data = file.read()\n",
    "    print(names_data)"
   ]
  },
  {
   "cell_type": "markdown",
   "metadata": {},
   "source": [
    "### Regex project\n",
    "\n",
    "Use python to read the file regex_test.txt and print the last name on each line using regular expressions and groups (return None for names with no first and last name, or names that aren't properly capitalized)\n",
    "##### Hint: use with open() and readlines()"
   ]
  },
  {
   "cell_type": "code",
   "execution_count": 23,
   "metadata": {},
   "outputs": [
    {
     "name": "stdout",
     "output_type": "stream",
     "text": [
      "Abraham Lincoln\n",
      "Andrew P Garfield\n",
      "Connor Milliken\n",
      "Jordan Alexander Williams\n",
      "Madonna\n",
      "programming is cool\n",
      "\n"
     ]
    }
   ],
   "source": [
    "import re\n",
    "with open(\"regex_test.txt\") as file: #this automatically closes the file for you\n",
    "    names_data = file.read()\n",
    "    print(names_data)\n",
    "    \n",
    "    pattern =re.compile(r'''\n",
    "    ^(?P<first>\\d[A-Z][a-z]+)\n",
    "    (<second>\\d[A-Z]?)\n",
    "    (<third>\\d\"Alexander\"?)\n",
    "    (?P<fourth>[A-Z][a-z]+ [^A-Z])\n",
    "''', re.X|re.M)\n",
    "\n",
    "\n",
    "for found in pattern.finditer(names_data):\n",
    "    if found.group(\"fourth\"):\n",
    "        first_name = found.group('fourth').split(', ')[1]\n",
    "        last_name = found.group('fourth').split(', ')[0]\n",
    "        print(\"------------------------\")\n",
    "        print(f\"last name {fourth} / {found.group('fourth')}\")\n",
    "        print('------------------------')\n",
    "\n",
    "\n",
    "\n",
    "\n",
    "#\"\"\"\n",
    "#Expected Output\n",
    "#Abraham Lincoln\n",
    "#Andrew P Garfield\n",
    "#Connor Milliken\n",
    "#Jordan Alexander Williams\n",
    "#None\n",
    "#None\n",
    "#\"\"\"\n",
    "\n"
   ]
  },
  {
   "cell_type": "code",
   "execution_count": null,
   "metadata": {},
   "outputs": [],
   "source": []
  },
  {
   "cell_type": "code",
   "execution_count": 36,
   "metadata": {},
   "outputs": [
    {
     "name": "stdout",
     "output_type": "stream",
     "text": [
      "3\n"
     ]
    }
   ],
   "source": [
    "#Return the number (count) of vowels in the given string.\n",
    "#We will consider a, e, i, o, u as vowels (but not y).\n",
    "#The input string will only consist of lower case letters and/or spaces.\n",
    "#ex:\n",
    "#get_count('hello_world') => 3\n",
    "\n",
    "def numvow(str1):\n",
    "    count = 0\n",
    "    vowels= \"a\", \"e\", \"i\", \"o\", \"u\"\n",
    "    for letter in str1:\n",
    "        if letter in vowels:\n",
    "            count += 1\n",
    "    return(count)\n",
    "        \n",
    "print(numvow(\"hello world\"))"
   ]
  },
  {
   "cell_type": "code",
   "execution_count": null,
   "metadata": {},
   "outputs": [],
   "source": []
  },
  {
   "cell_type": "code",
   "execution_count": null,
   "metadata": {},
   "outputs": [],
   "source": []
  }
 ],
 "metadata": {
  "kernelspec": {
   "display_name": "Python 3",
   "language": "python",
   "name": "python3"
  },
  "language_info": {
   "codemirror_mode": {
    "name": "ipython",
    "version": 3
   },
   "file_extension": ".py",
   "mimetype": "text/x-python",
   "name": "python",
   "nbconvert_exporter": "python",
   "pygments_lexer": "ipython3",
   "version": "3.8.8"
  }
 },
 "nbformat": 4,
 "nbformat_minor": 2
}
